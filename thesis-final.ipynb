{
 "cells": [
  {
   "cell_type": "code",
   "execution_count": null,
   "metadata": {},
   "outputs": [],
   "source": [
    "import os\n",
    "import re\n",
    "import nltk\n",
    "from nltk.corpus import stopwords\n",
    "import nltk"
   ]
  },
  {
   "cell_type": "code",
   "execution_count": null,
   "metadata": {},
   "outputs": [],
   "source": [
    "stopwords = ['б', 'г', 'д', 'е', 'ё', 'ж', 'з', 'й', 'л', 'м', 'н', 'п', 'р', 'т', 'ф', 'х', 'ц', 'ч', 'ш', 'щ', 'ъ', 'ы', 'ь', 'э', 'ю', 'гг']\n",
    "tokenizer = nltk.data.load('tokenizers/punkt/english.pickle')\n",
    "goal_d = cat_d + 'Cleaned/'\n",
    "if not os.path.exists(goal_d):\n",
    "  os.mkdir(goal_d)\n",
    "work_d = cat_together\n",
    "for i, file in enumerate(files):\n",
    "    text = os.path.abspath(cat_together + file)\n",
    "    with open(text, 'r', encoding = 'utf-8') as t:\n",
    "      txt = t.read()  \n",
    "    txt = txt.lower()\n",
    "    tokenized_text = tokenizer.tokenize(txt)\n",
    "    lst = []\n",
    "    for tryingtoclean in tokenized_text:\n",
    "        tryingtoclean = re.sub('(данные об авторе)(\\.)?.*', '', tryingtoclean, flags=re.S)\n",
    "        tryingtoclean = re.sub(r'[a-zA-z]', '', tryingtoclean)\n",
    "        tryingtoclean = re.sub(r'_', '', tryingtoclean)\n",
    "        tryingtoclean = re.sub(r'\\d', '', tryingtoclean)\n",
    "        tryingtoclean = re.sub(r'[ñâÿçàíšßãóìøþôõýæùúñî¹áîřðûɫɥɨêɜǎäiöüéɨïіïëèåòè]', '', tryingtoclean)\n",
    "        words = re.findall(r'\\w+', tryingtoclean)\n",
    "        clean = filter(lambda a: a not in stopwords, words)\n",
    "        x = ' '.join(clean).rstrip()\n",
    "        lst.append(x)\n",
    "    xxx = '. '.join(lst).rstrip() + '.'\n",
    "    dotpattern = re.compile(r'(\\. \\.)+')\n",
    "    xxx = re.sub(dotpattern, '', xxx)\n",
    "    spacepattern = re.compile(r'(  )+')\n",
    "    xxx = re.sub(spacepattern, '', xxx)\n",
    "    dotpattern2 = re.compile(r'( \\.)+')\n",
    "    xxx = re.sub(dotpattern2, '', xxx)\n",
    "    goal_f = open(goal_d + file, 'w', encoding = 'utf-8')\n",
    "    goal_f.write(xxx)\n",
    "    goal_f.close()\n",
    "    \n",
    "with open(goal_d + '....txt') as f:\n",
    "  t = f.read()\n",
    "  \n",
    "print(t[:500])\n",
    "def make_raws(root=cat_d):\n",
    "    failed = []\n",
    "    for d in os.listdir(root):\n",
    "        with open((os.path.join(root, d) + r'.txt'), 'a', encoding='utf-8') as domain:\n",
    "            for f in os.listdir(os.path.join(root, d)):\n",
    "                print(f)\n",
    "                with open(os.path.join(root, d, f), 'r', encoding='utf-8') as t:\n",
    "                    try:\n",
    "                        text = t.read()\n",
    "                        domain.write(text)\n",
    "                        domain.write('\\n')\n",
    "                    except UnicodeDecodeError:\n",
    "                        failed.append(os.path.join(root, d, f))\n",
    "    print(failed)\n",
    "    \n",
    "make_raws()\n",
    "def make_corpus(root='.'):\n",
    "    for root, dirs, files in os.walk(root):\n",
    "        for f in files:\n",
    "            with open(os.path.join(root, 'CAT.txt'), 'a', encoding='utf8') as corpora:\n",
    "                with open(os.path.join(root, f), 'r', encoding='utf8', errors='ignore') as f:\n",
    "                    domain = f.read()\n",
    "                corpora.write(domain)"
   ]
  },
  {
   "cell_type": "code",
   "execution_count": null,
   "metadata": {},
   "outputs": [],
   "source": [
    "with open('C:\\\\...', encoding = 'utf-8') as txt:\n",
    "    text = txt.read()\n",
    "    x = make_conll_with_udpipe(text)\n",
    "extension = 'conllu'\n",
    "with open('C:...{}.{}'.format(str('...'), extension), 'w', encoding = 'utf-8') as f:\n",
    "    f.write(x)"
   ]
  }
 ],
 "metadata": {
  "kernelspec": {
   "display_name": "Python 3",
   "language": "python",
   "name": "python3"
  },
  "language_info": {
   "codemirror_mode": {
    "name": "ipython",
    "version": 3
   },
   "file_extension": ".py",
   "mimetype": "text/x-python",
   "name": "python",
   "nbconvert_exporter": "python",
   "pygments_lexer": "ipython3",
   "version": "3.5.5"
  }
 },
 "nbformat": 4,
 "nbformat_minor": 2
}
